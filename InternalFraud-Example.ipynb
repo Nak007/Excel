{
 "cells": [
  {
   "cell_type": "markdown",
   "id": "53c99211",
   "metadata": {},
   "source": [
    "## Parameters"
   ]
  },
  {
   "cell_type": "code",
   "execution_count": 1,
   "id": "c11222a5",
   "metadata": {},
   "outputs": [],
   "source": [
    "import os\n",
    "from InternalFraud import *"
   ]
  },
  {
   "cell_type": "markdown",
   "id": "f2b451d5",
   "metadata": {},
   "source": [
    "**`Microsoft Outlook`** mail directory e.g. `email\\Inbox`"
   ]
  },
  {
   "cell_type": "code",
   "execution_count": 2,
   "id": "cc736633",
   "metadata": {},
   "outputs": [],
   "source": [
    "ol_path = \"danusorn.s@kasikornbank.com\\** Others **\\** Internal **\""
   ]
  },
  {
   "cell_type": "markdown",
   "id": "54460eb0",
   "metadata": {},
   "source": [
    "A valid file path where **`Config.xlsx`** is stored. This file contains necessary settings to construct report and other configurations."
   ]
  },
  {
   "cell_type": "code",
   "execution_count": 3,
   "id": "afadc2eb",
   "metadata": {},
   "outputs": [],
   "source": [
    "config = os.path.join(os.getcwd(), \"Config.xlsx\")"
   ]
  },
  {
   "cell_type": "markdown",
   "id": "c1241ad0",
   "metadata": {},
   "source": [
    "A valid file path of **`InternalFraud.xlsx`**."
   ]
  },
  {
   "cell_type": "code",
   "execution_count": 4,
   "id": "4f7ae55b",
   "metadata": {},
   "outputs": [],
   "source": [
    "internal = os.path.join(os.getcwd(), 'InternalFraud.xlsx')"
   ]
  },
  {
   "cell_type": "markdown",
   "id": "8383a524",
   "metadata": {},
   "source": [
    "A valid file path where all files will be copied to."
   ]
  },
  {
   "cell_type": "code",
   "execution_count": 5,
   "id": "58ead5cc",
   "metadata": {},
   "outputs": [],
   "source": [
    "destination = os.path.join(os.getcwd(), \"new_data\")"
   ]
  },
  {
   "cell_type": "markdown",
   "id": "1977f285",
   "metadata": {},
   "source": [
    "## Run scripts\n",
    "Extract mails from specified **`Microsoft Outlook`** mail directory"
   ]
  },
  {
   "cell_type": "code",
   "execution_count": 6,
   "id": "fa639581",
   "metadata": {
    "scrolled": false
   },
   "outputs": [
    {
     "data": {
      "application/vnd.jupyter.widget-view+json": {
       "model_id": "565bf535ea4742bcb6810a0d5e84559f",
       "version_major": 2,
       "version_minor": 0
      },
      "text/plain": [
       "HBox(children=(HTMLMath(value=''),))"
      ]
     },
     "metadata": {},
     "output_type": "display_data"
    },
    {
     "data": {
      "application/vnd.jupyter.widget-view+json": {
       "model_id": "373786f6679c4970aa5449e8636861b4",
       "version_major": 2,
       "version_minor": 0
      },
      "text/plain": [
       "  0%|          | 0/90 [00:00<?, ?it/s]"
      ]
     },
     "metadata": {},
     "output_type": "display_data"
    },
    {
     "data": {
      "application/vnd.jupyter.widget-view+json": {
       "model_id": "4d5e6af488a54ca491d5dc0b8d9a86ea",
       "version_major": 2,
       "version_minor": 0
      },
      "text/plain": [
       "HBox(children=(HTMLMath(value=''),))"
      ]
     },
     "metadata": {},
     "output_type": "display_data"
    },
    {
     "data": {
      "application/vnd.jupyter.widget-view+json": {
       "model_id": "4da1d35cadbc4b0db64a9249f9bd39bb",
       "version_major": 2,
       "version_minor": 0
      },
      "text/plain": [
       "  0%|          | 0/90 [00:00<?, ?it/s]"
      ]
     },
     "metadata": {},
     "output_type": "display_data"
    }
   ],
   "source": [
    "Report = AuditReport(source1 = config, source2 = internal).extract(ol_path)"
   ]
  },
  {
   "cell_type": "markdown",
   "id": "8ab90239",
   "metadata": {},
   "source": [
    "Copy files to new derectory and send notification out to all relevant parties"
   ]
  },
  {
   "cell_type": "code",
   "execution_count": null,
   "id": "c13561f0",
   "metadata": {},
   "outputs": [],
   "source": [
    "Sending = SendReport(config, overwrite=True).copy(internal, destination, send=False, display=True)"
   ]
  },
  {
   "cell_type": "code",
   "execution_count": 7,
   "id": "806e9a81",
   "metadata": {},
   "outputs": [
    {
     "name": "stdout",
     "output_type": "stream",
     "text": [
      "\n",
      "    Copy excel files (report) to destination.\n",
      "    \n",
      "    Parameters\n",
      "    ----------\n",
      "    source : str\n",
      "        A valid excel file (*.xlsx) path for predefined settings.\n",
      "        \n",
      "    sheet_name1 : str, default=\"Rename\"\n",
      "        Name of worksheet that contains renamed folders.\n",
      "        \n",
      "    sheet_name2 : str, default=\"Recipients\"\n",
      "        Name of worksheet in \"source\" that contains list of recipients.\n",
      "        \n",
      "    overwrite : bool, default=True\n",
      "        If True, it overwrites the file. This will result a loss of\n",
      "        data that is irrecoverable.\n",
      "        \n",
      "    \n"
     ]
    }
   ],
   "source": [
    "print(SendReport.__doc__)"
   ]
  },
  {
   "cell_type": "code",
   "execution_count": null,
   "id": "80b51690",
   "metadata": {},
   "outputs": [],
   "source": []
  }
 ],
 "metadata": {
  "kernelspec": {
   "display_name": "Python 3 (ipykernel)",
   "language": "python",
   "name": "python3"
  },
  "language_info": {
   "codemirror_mode": {
    "name": "ipython",
    "version": 3
   },
   "file_extension": ".py",
   "mimetype": "text/x-python",
   "name": "python",
   "nbconvert_exporter": "python",
   "pygments_lexer": "ipython3",
   "version": "3.9.12"
  }
 },
 "nbformat": 4,
 "nbformat_minor": 5
}
